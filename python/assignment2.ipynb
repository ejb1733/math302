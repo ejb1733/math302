{
 "cells": [
  {
   "cell_type": "markdown",
   "id": "61a0a3cd-14e4-4712-945e-0a7e3987868e",
   "metadata": {
    "deletable": false,
    "editable": false,
    "nbgrader": {
     "cell_type": "markdown",
     "checksum": "755c3eb1aad6c6b76bb129b94c9c3ec5",
     "grade": false,
     "grade_id": "cell-552dd8749c16576b",
     "locked": true,
     "schema_version": 3,
     "solution": false,
     "task": false
    },
    "tags": []
   },
   "source": [
    "# MATH 302 Python Assignment 2\n",
    "\n",
    "## Instructions\n",
    "\n",
    "* Enter your solutions in cells with `YOUR CODE HERE` (all other cells are ignored by the autograder)\n",
    "* Run the tests to verify your work\n",
    "* Some cells contain hidden tests for grading\n",
    "* Do not import any pacakges (other than the standard packages in the cell below)\n",
    "* See [Python for UBC Math](https://ubcmath.github.io/python/) for instructions and examples\n",
    "* Submit the completed notebook to Canvas (download `.ipynb` file to your machine and then upload to Canvas)"
   ]
  },
  {
   "cell_type": "code",
   "execution_count": 1,
   "id": "ba525c7c-806c-4cb2-81cc-99b3c298dcaf",
   "metadata": {
    "deletable": false,
    "editable": false,
    "nbgrader": {
     "cell_type": "code",
     "checksum": "2c77e4a79b6a1f00807c3aa448632b90",
     "grade": false,
     "grade_id": "cell-a2dde962f42246e2",
     "locked": true,
     "schema_version": 3,
     "solution": false,
     "task": false
    },
    "tags": []
   },
   "outputs": [],
   "source": [
    "import numpy as np\n",
    "import matplotlib.pyplot as plt\n",
    "import scipy.special as sp\n",
    "import scipy.integrate as spi"
   ]
  },
  {
   "cell_type": "markdown",
   "id": "4c32dc01-9149-4346-ba1f-eeea172e97d4",
   "metadata": {
    "deletable": false,
    "editable": false,
    "nbgrader": {
     "cell_type": "markdown",
     "checksum": "e2c4ba51b6070f938a63f833a4e01f25",
     "grade": false,
     "grade_id": "cell-2e96a7f75c450075",
     "locked": true,
     "schema_version": 3,
     "solution": false,
     "task": false
    }
   },
   "source": [
    "## Problem 1 (6 marks)\n",
    "\n",
    "The probability density function for the standard normal distribution $\\mathcal{N}(0,1)$ is given by\n",
    "\n",
    "$$\n",
    "f(x) = \\frac{1}{\\sqrt{2 \\pi}} e^{-\\frac{x^2}{2}}\n",
    "$$\n",
    "\n",
    "Create $f(x)$ as a Python function:"
   ]
  },
  {
   "cell_type": "code",
   "execution_count": 2,
   "id": "f7537bc6-7a15-44c0-9105-502ad358db64",
   "metadata": {
    "deletable": false,
    "editable": false,
    "nbgrader": {
     "cell_type": "code",
     "checksum": "5e4bacbca0ab8bb25b98827385a15f14",
     "grade": false,
     "grade_id": "cell-305b47da5fb5aea2",
     "locked": true,
     "schema_version": 3,
     "solution": false,
     "task": false
    },
    "tags": []
   },
   "outputs": [],
   "source": [
    "fnormal = lambda x: 1/np.sqrt(2*np.pi)*np.exp(-x**2/2)"
   ]
  },
  {
   "cell_type": "markdown",
   "id": "3070b3e8-c828-43aa-8d8c-acda50e0a103",
   "metadata": {
    "deletable": false,
    "editable": false,
    "nbgrader": {
     "cell_type": "markdown",
     "checksum": "c401928e6d1814cfe68e85889be163cf",
     "grade": false,
     "grade_id": "cell-8591198e4bb8b957",
     "locked": true,
     "schema_version": 3,
     "solution": false,
     "task": false
    }
   },
   "source": [
    "Plot the function on the interval $[-5,5]$"
   ]
  },
  {
   "cell_type": "code",
   "execution_count": 3,
   "id": "0e5ff581-95dc-4e2e-908b-ccd678f38d51",
   "metadata": {
    "deletable": false,
    "editable": false,
    "nbgrader": {
     "cell_type": "code",
     "checksum": "d1955c5292ce1efda730a855548d387f",
     "grade": false,
     "grade_id": "cell-0441e3f6cefa147a",
     "locked": true,
     "schema_version": 3,
     "solution": false,
     "task": false
    },
    "tags": []
   },
   "outputs": [
    {
     "data": {
      "image/png": "[encoded data removed]",
      "text/plain": [
       "<Figure size 640x480 with 1 Axes>"
      ]
     },
     "metadata": {},
     "output_type": "display_data"
    }
   ],
   "source": [
    "x = np.linspace(-4,4,200)\n",
    "y = fnormal(x)\n",
    "plt.plot(x,y)\n",
    "plt.show()"
   ]
  },
  {
   "cell_type": "markdown",
   "id": "870272a8-bbf7-4cf2-b118-3076b54c6c55",
   "metadata": {
    "deletable": false,
    "editable": false,
    "nbgrader": {
     "cell_type": "markdown",
     "checksum": "e81a101d8a023e897a441e717d82eba1",
     "grade": false,
     "grade_id": "cell-aa6f6c9969159fdc",
     "locked": true,
     "schema_version": 3,
     "solution": false,
     "task": false
    },
    "tags": []
   },
   "source": [
    "The function `scipy.integrate.quad(f,a,b)` approximates the integral of a function `f` on the interval from `a` to `b`. For example, approximate the integral:\n",
    "\n",
    "$$\n",
    "\\frac{1}{\\sqrt{2 \\pi}} \\int_0^2 e^{-\\frac{x^2}{2}} dx\n",
    "$$"
   ]
  },
  {
   "cell_type": "code",
   "execution_count": 4,
   "id": "4c386b55-7d08-4d47-8b4a-65990e3f8dc0",
   "metadata": {
    "deletable": false,
    "editable": false,
    "nbgrader": {
     "cell_type": "code",
     "checksum": "6ce3c6b1720d0d0c1e92289ad721592c",
     "grade": false,
     "grade_id": "cell-062df5d741276cf8",
     "locked": true,
     "schema_version": 3,
     "solution": false,
     "task": false
    },
    "tags": []
   },
   "outputs": [],
   "source": [
    "I,error = spi.quad(fnormal,0,2)"
   ]
  },
  {
   "cell_type": "markdown",
   "id": "2e17ba83-8c7b-46fc-b330-d6ad417b5590",
   "metadata": {
    "deletable": false,
    "editable": false,
    "nbgrader": {
     "cell_type": "markdown",
     "checksum": "5e9e0a9771efa2d70180c76023cf72a7",
     "grade": false,
     "grade_id": "cell-c9ddb5cb93057c3a",
     "locked": true,
     "schema_version": 3,
     "solution": false,
     "task": false
    },
    "tags": []
   },
   "source": [
    "The function `scipy.integrate.quad` returns the approximation `I` and an estimate for the error `error`."
   ]
  },
  {
   "cell_type": "code",
   "execution_count": 5,
   "id": "aa0e8480-34e5-425a-bcd0-d58fb76847f2",
   "metadata": {
    "deletable": false,
    "editable": false,
    "nbgrader": {
     "cell_type": "code",
     "checksum": "bb54b11b7b73a85cfc3591a5b317aefe",
     "grade": false,
     "grade_id": "cell-5a74b1d5a8762517",
     "locked": true,
     "schema_version": 3,
     "solution": false,
     "task": false
    },
    "tags": []
   },
   "outputs": [
    {
     "data": {
      "text/plain": [
       "0.47724986805182085"
      ]
     },
     "execution_count": 5,
     "metadata": {},
     "output_type": "execute_result"
    }
   ],
   "source": [
    "I"
   ]
  },
  {
   "cell_type": "code",
   "execution_count": 6,
   "id": "e1a4ad16-ecb1-48cd-a9d1-50f9074ecabd",
   "metadata": {
    "deletable": false,
    "editable": false,
    "nbgrader": {
     "cell_type": "code",
     "checksum": "1c0bdcca4ad6d594a1a327f7d1cff209",
     "grade": false,
     "grade_id": "cell-077701628846a024",
     "locked": true,
     "schema_version": 3,
     "solution": false,
     "task": false
    },
    "tags": []
   },
   "outputs": [
    {
     "data": {
      "text/plain": [
       "5.298537920104494e-15"
      ]
     },
     "execution_count": 6,
     "metadata": {},
     "output_type": "execute_result"
    }
   ],
   "source": [
    "error"
   ]
  },
  {
   "cell_type": "markdown",
   "id": "2fa0f239-6e83-41fa-8805-953dc530e254",
   "metadata": {
    "deletable": false,
    "editable": false,
    "nbgrader": {
     "cell_type": "markdown",
     "checksum": "df8bc590d5f7fb01e6fe32e685369bc7",
     "grade": false,
     "grade_id": "cell-450b8a9e0185f139",
     "locked": true,
     "schema_version": 3,
     "solution": false,
     "task": false
    },
    "tags": []
   },
   "source": [
    "Let $X \\sim \\mathcal{N}(0,1)$ in each part below.\n",
    "\n",
    "Let's numerical approximate integrals of $f(x)$ to verify the [3-sigma rule](https://en.wikipedia.org/wiki/68–95–99.7_rule).\n",
    "\n",
    "Check out the [SciPy documentation](https://docs.scipy.org/doc/scipy/reference/generated/scipy.integrate.quad.html) to learn more about `scipy.integrate.quad`."
   ]
  },
  {
   "cell_type": "markdown",
   "id": "8260d50b-1f09-4559-962c-25306a52f1c6",
   "metadata": {
    "deletable": false,
    "editable": false,
    "nbgrader": {
     "cell_type": "markdown",
     "checksum": "bcc4b83a3e686a8dc1e9910881d737b0",
     "grade": false,
     "grade_id": "cell-343770b49c378212",
     "locked": true,
     "schema_version": 3,
     "solution": false,
     "task": false
    },
    "tags": []
   },
   "source": [
    "**Part A.** Use the function `scipy.integrate.quad` to approximate the probability $P(-1 \\leq X \\leq 1)$. Save the result as `P1a`."
   ]
  },
  {
   "cell_type": "code",
   "execution_count": 12,
   "id": "52f24276-f855-43a9-ad0d-9fa79d4c44e3",
   "metadata": {
    "deletable": false,
    "nbgrader": {
     "cell_type": "code",
     "checksum": "9a7efecbc5382e4cb6a761b5b61b493a",
     "grade": false,
     "grade_id": "cell-1ef9780ef8ddf32a",
     "locked": false,
     "schema_version": 3,
     "solution": true,
     "task": false
    },
    "tags": []
   },
   "outputs": [
    {
     "data": {
      "text/plain": [
       "0.682689492137086"
      ]
     },
     "execution_count": 12,
     "metadata": {},
     "output_type": "execute_result"
    }
   ],
   "source": [
    "# YOUR CODE HERE\n",
    "P1a,err1a = spi.quad(fnormal, -1,1)\n",
    "P1a"
   ]
  },
  {
   "cell_type": "code",
   "execution_count": 13,
   "id": "d67f9951-ec27-452a-ba81-c6399b3649d0",
   "metadata": {
    "deletable": false,
    "editable": false,
    "nbgrader": {
     "cell_type": "code",
     "checksum": "6135ae301902c86ae85c8cb3b15f020b",
     "grade": true,
     "grade_id": "cell-3f41a02f4cd0e53f",
     "locked": true,
     "points": 1,
     "schema_version": 3,
     "solution": false,
     "task": false
    },
    "tags": []
   },
   "outputs": [
    {
     "name": "stdout",
     "output_type": "stream",
     "text": [
      "Test 1: Success!\n"
     ]
    }
   ],
   "source": [
    "# Test 1: Verify P1a is a value between 0 and 1. (1 mark)\n",
    "assert P1a > 0\n",
    "assert P1a < 1\n",
    "print(\"Test 1: Success!\")"
   ]
  },
  {
   "cell_type": "code",
   "execution_count": 10,
   "id": "ca68802e-6bb4-48b3-8865-4948ab12fbd6",
   "metadata": {
    "deletable": false,
    "editable": false,
    "nbgrader": {
     "cell_type": "code",
     "checksum": "fdd56e95c5e3012f361421dd4d805d67",
     "grade": true,
     "grade_id": "cell-020d7419c7b6e82c",
     "locked": true,
     "points": 1,
     "schema_version": 3,
     "solution": false,
     "task": false
    },
    "tags": []
   },
   "outputs": [],
   "source": [
    "# Test 2: Verify P1a is the correct value. This cell contains hidden tests. (1 mark)"
   ]
  },
  {
   "cell_type": "markdown",
   "id": "27bbc7e4-ad66-4c38-9bd6-6914e2ba7700",
   "metadata": {
    "deletable": false,
    "editable": false,
    "nbgrader": {
     "cell_type": "markdown",
     "checksum": "f6cddde8d01ab9e99ac0b73c1287c27f",
     "grade": false,
     "grade_id": "cell-584ab6a6adcf2370",
     "locked": true,
     "schema_version": 3,
     "solution": false,
     "task": false
    },
    "tags": []
   },
   "source": [
    "**Part B.** Use the function `scipy.integrate.quad` to approximate the probability $P(-2 \\leq X \\leq 2)$. Save the result as `P1b`."
   ]
  },
  {
   "cell_type": "code",
   "execution_count": 16,
   "id": "63abbbf8-a549-4703-afec-9644b831ff0d",
   "metadata": {
    "deletable": false,
    "nbgrader": {
     "cell_type": "code",
     "checksum": "4ea7f1d52ed34ce43baf378842663319",
     "grade": false,
     "grade_id": "cell-ed10bfb668510b48",
     "locked": false,
     "schema_version": 3,
     "solution": true,
     "task": false
    },
    "tags": []
   },
   "outputs": [
    {
     "data": {
      "text/plain": [
       "0.9544997361036417"
      ]
     },
     "execution_count": 16,
     "metadata": {},
     "output_type": "execute_result"
    }
   ],
   "source": [
    "# YOUR CODE HERE\n",
    "P1b,err1b = spi.quad(fnormal, -2,2)\n",
    "P1b"
   ]
  },
  {
   "cell_type": "code",
   "execution_count": 17,
   "id": "445972a6-e5f6-41c5-82f9-d79ad3191715",
   "metadata": {
    "deletable": false,
    "editable": false,
    "nbgrader": {
     "cell_type": "code",
     "checksum": "3ba15826dd70b4874a627819ffccef7a",
     "grade": true,
     "grade_id": "cell-1a024b6a480d4605",
     "locked": true,
     "points": 1,
     "schema_version": 3,
     "solution": false,
     "task": false
    },
    "tags": []
   },
   "outputs": [
    {
     "name": "stdout",
     "output_type": "stream",
     "text": [
      "Test 1: Success!\n"
     ]
    }
   ],
   "source": [
    "# Test 1: Verify P1b is a value between 0 and 1. (1 mark)\n",
    "assert P1b > 0\n",
    "assert P1b < 1\n",
    "print(\"Test 1: Success!\")"
   ]
  },
  {
   "cell_type": "code",
   "execution_count": 21,
   "id": "10c13ccd-5caa-4fe1-99da-8549c7f0826a",
   "metadata": {
    "deletable": false,
    "editable": false,
    "nbgrader": {
     "cell_type": "code",
     "checksum": "86945140e29c63f71c8a325a7e341139",
     "grade": true,
     "grade_id": "cell-e31e27c3efbdb82e",
     "locked": true,
     "points": 1,
     "schema_version": 3,
     "solution": false,
     "task": false
    },
    "tags": []
   },
   "outputs": [],
   "source": [
    "# Test 2: Verify P1b is the correct value. This cell contains hidden tests. (1 mark)"
   ]
  },
  {
   "cell_type": "markdown",
   "id": "cee373cd-5d68-469a-ab8c-4efae68c30e5",
   "metadata": {
    "deletable": false,
    "editable": false,
    "nbgrader": {
     "cell_type": "markdown",
     "checksum": "012f5e648d0b982bc9b53fca53a62391",
     "grade": false,
     "grade_id": "cell-de7e4f160adbfdea",
     "locked": true,
     "schema_version": 3,
     "solution": false,
     "task": false
    },
    "tags": []
   },
   "source": [
    "**Part C.** Use the function `scipy.integrate.quad` to approximate the probability $P(-3 \\leq X \\leq 3)$. Save the result as `P1c`."
   ]
  },
  {
   "cell_type": "code",
   "execution_count": 18,
   "id": "c1fc4410-15ca-4730-b741-2258af859e52",
   "metadata": {
    "deletable": false,
    "nbgrader": {
     "cell_type": "code",
     "checksum": "20acd094fd5c7226e538a9f4c7e23749",
     "grade": false,
     "grade_id": "cell-2b1fe16236e4dc56",
     "locked": false,
     "schema_version": 3,
     "solution": true,
     "task": false
    },
    "tags": []
   },
   "outputs": [
    {
     "data": {
      "text/plain": [
       "0.9973002039367399"
      ]
     },
     "execution_count": 18,
     "metadata": {},
     "output_type": "execute_result"
    }
   ],
   "source": [
    "# YOUR CODE HERE\n",
    "P1c,err1c = spi.quad(fnormal, -3,3)\n",
    "P1c"
   ]
  },
  {
   "cell_type": "code",
   "execution_count": 19,
   "id": "4e7ec432-1f1b-4125-b442-d112eb9a8d85",
   "metadata": {
    "deletable": false,
    "editable": false,
    "nbgrader": {
     "cell_type": "code",
     "checksum": "8ea5128956a73668f93bf17cf3cf7131",
     "grade": true,
     "grade_id": "cell-71e84f63ec821589",
     "locked": true,
     "points": 1,
     "schema_version": 3,
     "solution": false,
     "task": false
    },
    "tags": []
   },
   "outputs": [
    {
     "name": "stdout",
     "output_type": "stream",
     "text": [
      "Test 1: Success!\n"
     ]
    }
   ],
   "source": [
    "# Test 1: Verify P1c is a value between 0 and 1. (1 mark)\n",
    "assert P1c > 0\n",
    "assert P1c < 1\n",
    "print(\"Test 1: Success!\")"
   ]
  },
  {
   "cell_type": "code",
   "execution_count": 20,
   "id": "b0516174-5278-4666-9214-12d7a48388a4",
   "metadata": {
    "deletable": false,
    "editable": false,
    "nbgrader": {
     "cell_type": "code",
     "checksum": "c57779ec6b555857544f4fec36a13ac0",
     "grade": true,
     "grade_id": "cell-04f00e43a4644e8b",
     "locked": true,
     "points": 1,
     "schema_version": 3,
     "solution": false,
     "task": false
    },
    "tags": []
   },
   "outputs": [],
   "source": [
    "# Test 2: Verify P1c is the correct value. This cell contains hidden tests. (1 mark)"
   ]
  },
  {
   "cell_type": "markdown",
   "id": "0f5364cf-bb34-4155-8f13-6239aa46bdc8",
   "metadata": {
    "deletable": false,
    "editable": false,
    "nbgrader": {
     "cell_type": "markdown",
     "checksum": "07d9381948a4e1cc9280a3fc54a6a5d3",
     "grade": false,
     "grade_id": "cell-8cb361e297fd20d7",
     "locked": true,
     "schema_version": 3,
     "solution": false,
     "task": false
    },
    "tags": []
   },
   "source": [
    "## Problem 2 (5 marks)\n",
    "\n",
    "The probability density function of the exponential distribution $\\mathrm{Exp}(\\lambda)$ with parameter $\\lambda > 0$ is given by\n",
    "\n",
    "$$\n",
    "f(x) = \\lambda e^{-\\lambda x} \\ , \\ \\ x \\geq 0\n",
    "$$"
   ]
  },
  {
   "cell_type": "markdown",
   "id": "f0007683-63ed-47fa-9e4a-f0e1b6fb3a50",
   "metadata": {
    "deletable": false,
    "editable": false,
    "nbgrader": {
     "cell_type": "markdown",
     "checksum": "3a73df54105fd3c8e92bad23b9f53fb3",
     "grade": false,
     "grade_id": "cell-66dfc699a8db2afa",
     "locked": true,
     "schema_version": 3,
     "solution": false,
     "task": false
    }
   },
   "source": [
    "**Part A.** Create $f(x) = \\lambda e^{-\\lambda x}$ for $\\lambda = 2$ as a Python function. Save the result as `fexp2`."
   ]
  },
  {
   "cell_type": "code",
   "execution_count": 30,
   "id": "f9e4f72c-cc71-42b9-b2ca-08334611f296",
   "metadata": {
    "deletable": false,
    "nbgrader": {
     "cell_type": "code",
     "checksum": "2dfd05ef29faa3943cb02b33affe58b2",
     "grade": false,
     "grade_id": "cell-e1591278017f541e",
     "locked": false,
     "schema_version": 3,
     "solution": true,
     "task": false
    },
    "tags": []
   },
   "outputs": [
    {
     "data": {
      "text/plain": [
       "0.2706705664732254"
      ]
     },
     "execution_count": 30,
     "metadata": {},
     "output_type": "execute_result"
    }
   ],
   "source": [
    "# YOUR CODE HERE\n",
    "lam = 2\n",
    "\n",
    "fexp2 = lambda x: lam * np.exp(-lam * x)\n",
    "fexp2(1)"
   ]
  },
  {
   "cell_type": "code",
   "execution_count": 31,
   "id": "290c5982-0dff-4558-a29c-abdba51fcfe1",
   "metadata": {
    "deletable": false,
    "editable": false,
    "nbgrader": {
     "cell_type": "code",
     "checksum": "acccd51de63a3d6a2741cc7cd021efa6",
     "grade": true,
     "grade_id": "cell-f6d82d8a2bb697d5",
     "locked": true,
     "points": 1,
     "schema_version": 3,
     "solution": false,
     "task": false
    },
    "tags": []
   },
   "outputs": [
    {
     "name": "stdout",
     "output_type": "stream",
     "text": [
      "Test 1: Success!\n"
     ]
    }
   ],
   "source": [
    "# Test 1: Verify fexp2 is a Python function. (1 mark)\n",
    "assert callable(fexp2)\n",
    "print(\"Test 1: Success!\")"
   ]
  },
  {
   "cell_type": "code",
   "execution_count": 32,
   "id": "9e481ed8-7611-4be8-ad7b-7b87677f08c3",
   "metadata": {
    "deletable": false,
    "editable": false,
    "nbgrader": {
     "cell_type": "code",
     "checksum": "d4e2870934c5b7d8bd40e58ddb97557a",
     "grade": true,
     "grade_id": "cell-9f0c1ecb9f07b5d6",
     "locked": true,
     "points": 1,
     "schema_version": 3,
     "solution": false,
     "task": false
    },
    "tags": []
   },
   "outputs": [
    {
     "name": "stdout",
     "output_type": "stream",
     "text": [
      "Test 2: Success!\n"
     ]
    }
   ],
   "source": [
    "# Test 2: Verify fexp2 returns correct values. (1 mark)\n",
    "assert np.allclose(fexp2(1),2*np.exp(-2))\n",
    "assert np.allclose(fexp2(1/2),2*np.exp(-1))\n",
    "print(\"Test 2: Success!\")"
   ]
  },
  {
   "cell_type": "code",
   "execution_count": 33,
   "id": "3cce6bfa-cf44-4b7a-a512-3282725ed092",
   "metadata": {
    "deletable": false,
    "editable": false,
    "nbgrader": {
     "cell_type": "code",
     "checksum": "6c74142ac5b5b2ec388fbfba0b63a47c",
     "grade": true,
     "grade_id": "cell-bc15cb42114fa04c",
     "locked": true,
     "points": 1,
     "schema_version": 3,
     "solution": false,
     "task": false
    },
    "tags": []
   },
   "outputs": [],
   "source": [
    "# Test 3: Verify fexp2 returns correct values. This cell contains hidden tests. (1 mark)"
   ]
  },
  {
   "cell_type": "markdown",
   "id": "a1ab7049-1aed-400a-8cfb-ac085484c6f8",
   "metadata": {
    "deletable": false,
    "editable": false,
    "nbgrader": {
     "cell_type": "markdown",
     "checksum": "0180d9a6ea249fec160aa8209f619174",
     "grade": false,
     "grade_id": "cell-1e7d91bb9afc1f52",
     "locked": true,
     "schema_version": 3,
     "solution": false,
     "task": false
    },
    "tags": []
   },
   "source": [
    "Plot the function:"
   ]
  },
  {
   "cell_type": "code",
   "execution_count": 34,
   "id": "4513d0b9-fed7-4c41-979a-67e86d6a68fa",
   "metadata": {
    "deletable": false,
    "editable": false,
    "nbgrader": {
     "cell_type": "code",
     "checksum": "bc5f9c807e23e058c3e4e8a87a1f145a",
     "grade": false,
     "grade_id": "cell-1ed8e6bd9c4ef932",
     "locked": true,
     "schema_version": 3,
     "solution": false,
     "task": false
    },
    "tags": []
   },
   "outputs": [
    {
     "data": {
      "image/png": "[encoded data removed]",
      "text/plain": [
       "<Figure size 640x480 with 1 Axes>"
      ]
     },
     "metadata": {},
     "output_type": "display_data"
    }
   ],
   "source": [
    "x = np.linspace(0,3,100)\n",
    "y = fexp2(x)\n",
    "plt.plot(x,y)\n",
    "plt.show()"
   ]
  },
  {
   "cell_type": "markdown",
   "id": "e57db8aa-2ee8-4305-8d8d-98f4e7a4b72f",
   "metadata": {
    "deletable": false,
    "editable": false,
    "nbgrader": {
     "cell_type": "markdown",
     "checksum": "fae4db63aed84e7999a43669024d0ca4",
     "grade": false,
     "grade_id": "cell-a34c530d4be45cde",
     "locked": true,
     "schema_version": 3,
     "solution": false,
     "task": false
    },
    "tags": []
   },
   "source": [
    "**Part B.** Let $X \\sim \\mathrm{Exp}(2)$. Use `spi.quad` to compute $P(1/2 \\leq X \\leq 1)$. Save the result as `P2b`."
   ]
  },
  {
   "cell_type": "code",
   "execution_count": 46,
   "id": "4527db21-dcba-4e3c-bff1-5192e83522b9",
   "metadata": {
    "deletable": false,
    "nbgrader": {
     "cell_type": "code",
     "checksum": "6d9f2f9c93f21170517516387ef5a986",
     "grade": false,
     "grade_id": "cell-2616b688651193ce",
     "locked": false,
     "schema_version": 3,
     "solution": true,
     "task": false
    },
    "tags": []
   },
   "outputs": [
    {
     "data": {
      "text/plain": [
       "0.23254415793482963"
      ]
     },
     "execution_count": 46,
     "metadata": {},
     "output_type": "execute_result"
    }
   ],
   "source": [
    "# YOUR CODE HERE\n",
    "P2b,err2b = spi.quad(fexp2, 0.5,1)\n",
    "P2b"
   ]
  },
  {
   "cell_type": "code",
   "execution_count": 47,
   "id": "d334fa8f-7ab5-4c66-bf38-34ba1f54bada",
   "metadata": {
    "deletable": false,
    "editable": false,
    "nbgrader": {
     "cell_type": "code",
     "checksum": "19d164fd2d0d0c6762f694d05a266938",
     "grade": true,
     "grade_id": "cell-6316b1f1a09f6bad",
     "locked": true,
     "points": 1,
     "schema_version": 3,
     "solution": false,
     "task": false
    },
    "tags": []
   },
   "outputs": [
    {
     "name": "stdout",
     "output_type": "stream",
     "text": [
      "Test 1: Success!\n"
     ]
    }
   ],
   "source": [
    "# Test 1: Verify P2b is a value between 0 and 1. (1 mark)\n",
    "assert P2b > 0\n",
    "assert P2b < 1\n",
    "print(\"Test 1: Success!\")"
   ]
  },
  {
   "cell_type": "code",
   "execution_count": 48,
   "id": "1c5c170b-171b-4a8c-b770-8536e046ba6c",
   "metadata": {
    "deletable": false,
    "editable": false,
    "nbgrader": {
     "cell_type": "code",
     "checksum": "c1a120a7326fe6c66cce3f3ae7991534",
     "grade": true,
     "grade_id": "cell-b76e9633308f7b78",
     "locked": true,
     "points": 1,
     "schema_version": 3,
     "solution": false,
     "task": false
    },
    "tags": []
   },
   "outputs": [],
   "source": [
    "# Test 2: Verify P2b is the correct value. This cell contains hidden tests. (1 mark)"
   ]
  },
  {
   "cell_type": "markdown",
   "id": "e57a3cd0-607b-4538-bc45-bc53ead39f46",
   "metadata": {
    "deletable": false,
    "editable": false,
    "nbgrader": {
     "cell_type": "markdown",
     "checksum": "3e9ed22d332bac9541beac3aff6621cb",
     "grade": false,
     "grade_id": "cell-aa07517e8441f0e4",
     "locked": true,
     "schema_version": 3,
     "solution": false,
     "task": false
    },
    "tags": []
   },
   "source": [
    "## Problem 3 (5 marks)\n",
    "\n",
    "The gamma function is defined by an infinite integral\n",
    "\n",
    "$$\n",
    "\\Gamma(\\alpha) = \\int_0^{\\infty} y^{\\alpha - 1} e^{-y} dy\n",
    "$$\n",
    "\n",
    "The function `scipy.special.gamma` computes values of the gamma function. For example, we know that $\\Gamma(n) = (n-1)!$ if $n$ is a positive integer."
   ]
  },
  {
   "cell_type": "code",
   "execution_count": 56,
   "id": "f7218d12-991a-4fb5-88dd-3b133938f9a9",
   "metadata": {
    "deletable": false,
    "editable": false,
    "nbgrader": {
     "cell_type": "code",
     "checksum": "635abf1988968d19f254f6c1e04195d3",
     "grade": false,
     "grade_id": "cell-825612d6605732bf",
     "locked": true,
     "schema_version": 3,
     "solution": false,
     "task": false
    },
    "tags": []
   },
   "outputs": [
    {
     "data": {
      "text/plain": [
       "1.0"
      ]
     },
     "execution_count": 56,
     "metadata": {},
     "output_type": "execute_result"
    }
   ],
   "source": [
    "sp.gamma(2)"
   ]
  },
  {
   "cell_type": "code",
   "execution_count": 55,
   "id": "b4b7c32f",
   "metadata": {},
   "outputs": [
    {
     "data": {
      "text/plain": [
       "24"
      ]
     },
     "execution_count": 55,
     "metadata": {},
     "output_type": "execute_result"
    }
   ],
   "source": [
    "import math\n",
    "math.factorial(4)"
   ]
  },
  {
   "cell_type": "code",
   "execution_count": 57,
   "id": "c019dc88-5bb1-49f5-8eb9-5662a3af0b70",
   "metadata": {
    "deletable": false,
    "editable": false,
    "nbgrader": {
     "cell_type": "code",
     "checksum": "d8bd501e685796ccbd9805af232ce792",
     "grade": false,
     "grade_id": "cell-40f0e55d1691ca0b",
     "locked": true,
     "schema_version": 3,
     "solution": false,
     "task": false
    },
    "tags": []
   },
   "outputs": [
    {
     "data": {
      "text/plain": [
       "24.0"
      ]
     },
     "execution_count": 57,
     "metadata": {},
     "output_type": "execute_result"
    }
   ],
   "source": [
    "sp.gamma(5)"
   ]
  },
  {
   "cell_type": "code",
   "execution_count": 58,
   "id": "f65c60af-eb8a-47a1-a04c-f93b7b5e7408",
   "metadata": {
    "deletable": false,
    "editable": false,
    "nbgrader": {
     "cell_type": "code",
     "checksum": "1991f76683f092d6762d179977351b71",
     "grade": false,
     "grade_id": "cell-751a6e01332242a2",
     "locked": true,
     "schema_version": 3,
     "solution": false,
     "task": false
    },
    "tags": []
   },
   "outputs": [
    {
     "data": {
      "text/plain": [
       "5040.0"
      ]
     },
     "execution_count": 58,
     "metadata": {},
     "output_type": "execute_result"
    }
   ],
   "source": [
    "sp.gamma(8)"
   ]
  },
  {
   "cell_type": "code",
   "execution_count": 59,
   "id": "782d86db-459f-4e56-b585-5b95b31f9ab7",
   "metadata": {
    "deletable": false,
    "editable": false,
    "nbgrader": {
     "cell_type": "code",
     "checksum": "445bfe6ca28be6744ccceb9f3c0cf4cd",
     "grade": false,
     "grade_id": "cell-9eee4390ac08e259",
     "locked": true,
     "schema_version": 3,
     "solution": false,
     "task": false
    },
    "tags": []
   },
   "outputs": [
    {
     "data": {
      "text/plain": [
       "5040.0"
      ]
     },
     "execution_count": 59,
     "metadata": {},
     "output_type": "execute_result"
    }
   ],
   "source": [
    "sp.factorial(7)"
   ]
  },
  {
   "cell_type": "markdown",
   "id": "4f02ea74-1e18-4a7b-bc11-1357aa6f1e89",
   "metadata": {
    "deletable": false,
    "editable": false,
    "nbgrader": {
     "cell_type": "markdown",
     "checksum": "f42091738ef5b7bbe54a7940ba043452",
     "grade": false,
     "grade_id": "cell-03762a1e9512690e",
     "locked": true,
     "schema_version": 3,
     "solution": false,
     "task": false
    },
    "tags": []
   },
   "source": [
    "We also know that $\\Gamma(1/2) = \\sqrt{\\pi}$:"
   ]
  },
  {
   "cell_type": "code",
   "execution_count": 60,
   "id": "c75dc77f-8622-41da-bf94-eff1a469c8c7",
   "metadata": {
    "deletable": false,
    "editable": false,
    "nbgrader": {
     "cell_type": "code",
     "checksum": "e10c71f3e254e2d839595b10b4962b7d",
     "grade": false,
     "grade_id": "cell-5a104bd5c8aeffc4",
     "locked": true,
     "schema_version": 3,
     "solution": false,
     "task": false
    },
    "tags": []
   },
   "outputs": [
    {
     "data": {
      "text/plain": [
       "1.7724538509055159"
      ]
     },
     "execution_count": 60,
     "metadata": {},
     "output_type": "execute_result"
    }
   ],
   "source": [
    "sp.gamma(1/2)"
   ]
  },
  {
   "cell_type": "code",
   "execution_count": 61,
   "id": "f54adbc4-0fc5-4578-b1c3-42d925f29008",
   "metadata": {
    "deletable": false,
    "editable": false,
    "nbgrader": {
     "cell_type": "code",
     "checksum": "79eee68e3d9e3ba40785b9c31874eb95",
     "grade": false,
     "grade_id": "cell-b046ff37ad9890d9",
     "locked": true,
     "schema_version": 3,
     "solution": false,
     "task": false
    },
    "tags": []
   },
   "outputs": [
    {
     "data": {
      "text/plain": [
       "1.7724538509055159"
      ]
     },
     "execution_count": 61,
     "metadata": {},
     "output_type": "execute_result"
    }
   ],
   "source": [
    "np.sqrt(np.pi)"
   ]
  },
  {
   "cell_type": "markdown",
   "id": "8d53d148-4d84-4664-9e3a-45fbbe4e1448",
   "metadata": {
    "deletable": false,
    "editable": false,
    "nbgrader": {
     "cell_type": "markdown",
     "checksum": "8e7b668cf1c75aa1241f4e8919be45bc",
     "grade": false,
     "grade_id": "cell-edb11ff599685f45",
     "locked": true,
     "schema_version": 3,
     "solution": false,
     "task": false
    },
    "tags": []
   },
   "source": [
    "The probability density function for the gamma distribution $\\Gamma(\\alpha,\\lambda)$ with parameters $\\alpha$ and $\\lambda$ is given by:\n",
    "\n",
    "$$\n",
    "f(x) = \\frac{\\lambda^{\\alpha}}{\\Gamma(\\alpha)} x^{\\alpha - 1} e^{-\\lambda x}\n",
    "$$"
   ]
  },
  {
   "cell_type": "markdown",
   "id": "f09c4e3d-6fe2-4ca4-bccd-856e2e1ac9ea",
   "metadata": {
    "deletable": false,
    "editable": false,
    "nbgrader": {
     "cell_type": "markdown",
     "checksum": "1140652795cde2dac970df778e983cb3",
     "grade": false,
     "grade_id": "cell-87afc9edc3c91b33",
     "locked": true,
     "schema_version": 3,
     "solution": false,
     "task": false
    },
    "tags": []
   },
   "source": [
    "**Part A.** Create the probability distrubtion function for $\\Gamma(2,1)$. Save the function as `fgamma21`."
   ]
  },
  {
   "cell_type": "code",
   "execution_count": null,
   "id": "6df280eb-7068-4347-89bc-192dc9c10660",
   "metadata": {
    "deletable": false,
    "nbgrader": {
     "cell_type": "code",
     "checksum": "0c7561bdec6a353ab9ef05a1cc46cf0f",
     "grade": false,
     "grade_id": "cell-f7279f3c4e9f9194",
     "locked": false,
     "schema_version": 3,
     "solution": true,
     "task": false
    },
    "tags": []
   },
   "outputs": [],
   "source": [
    "# YOUR CODE HERE\n",
    "fgamma21 "
   ]
  },
  {
   "cell_type": "code",
   "execution_count": null,
   "id": "7bd4a899-5f8b-41e3-b515-b87516d31bee",
   "metadata": {
    "deletable": false,
    "editable": false,
    "nbgrader": {
     "cell_type": "code",
     "checksum": "5bfba23527ea21e9b5d3297e9b0e7551",
     "grade": true,
     "grade_id": "cell-bd1587e4f84d1b73",
     "locked": true,
     "points": 1,
     "schema_version": 3,
     "solution": false,
     "task": false
    },
    "tags": []
   },
   "outputs": [],
   "source": [
    "# Test 1: Verify fgamma21 is a Python function. (1 mark)\n",
    "assert callable(fgamma21)\n",
    "print(\"Test 1: Success!\")"
   ]
  },
  {
   "cell_type": "code",
   "execution_count": null,
   "id": "23190f86-e15d-4ac3-b312-a6e3c11b170a",
   "metadata": {
    "deletable": false,
    "editable": false,
    "nbgrader": {
     "cell_type": "code",
     "checksum": "17c5d6be45fd49bb25b6e1a9d780f6ba",
     "grade": true,
     "grade_id": "cell-f0073cd8f530c3d3",
     "locked": true,
     "points": 1,
     "schema_version": 3,
     "solution": false,
     "task": false
    },
    "tags": []
   },
   "outputs": [],
   "source": [
    "# Test 2: Verify fgamma21 returns correct values. (1 mark)\n",
    "assert np.allclose(fgamma21(1),1/np.e)\n",
    "assert np.allclose(fgamma21(2),2*np.exp(-2))\n",
    "print(\"Test 2: Success!\")"
   ]
  },
  {
   "cell_type": "code",
   "execution_count": null,
   "id": "73041f9e-5ec5-4775-9ed9-4419097bcc16",
   "metadata": {
    "deletable": false,
    "editable": false,
    "nbgrader": {
     "cell_type": "code",
     "checksum": "f95026c9a9cc183a2b8a1cd2efa4fe8d",
     "grade": true,
     "grade_id": "cell-51cdc0071699b777",
     "locked": true,
     "points": 1,
     "schema_version": 3,
     "solution": false,
     "task": false
    },
    "tags": []
   },
   "outputs": [],
   "source": [
    "# Test 3: Verify fgamma21 returns correct values. This cell contains hidden tests. (1 mark)"
   ]
  },
  {
   "cell_type": "markdown",
   "id": "e5295e62-46d1-4f88-8cbc-17d69d18bffe",
   "metadata": {
    "deletable": false,
    "editable": false,
    "nbgrader": {
     "cell_type": "markdown",
     "checksum": "a22307474512748cc20cc225539ebb4a",
     "grade": false,
     "grade_id": "cell-410d4342cf1181ab",
     "locked": true,
     "schema_version": 3,
     "solution": false,
     "task": false
    },
    "tags": []
   },
   "source": [
    "Plot the function:"
   ]
  },
  {
   "cell_type": "code",
   "execution_count": null,
   "id": "b3202b32-9e38-4632-81f6-8521a9b6c73b",
   "metadata": {
    "deletable": false,
    "editable": false,
    "nbgrader": {
     "cell_type": "code",
     "checksum": "adbd8cab166dc434747e5b5c04dc4884",
     "grade": false,
     "grade_id": "cell-80bdf6ad0eae05c1",
     "locked": true,
     "schema_version": 3,
     "solution": false,
     "task": false
    },
    "tags": []
   },
   "outputs": [],
   "source": [
    "x = np.linspace(0,10,200)\n",
    "y = fgamma21(x)\n",
    "plt.plot(x,y)\n",
    "plt.show()"
   ]
  },
  {
   "cell_type": "markdown",
   "id": "ae6be430-de68-4917-9759-17934a56d931",
   "metadata": {
    "deletable": false,
    "editable": false,
    "nbgrader": {
     "cell_type": "markdown",
     "checksum": "c0e34fc8a5d3ce39b8840267cf581905",
     "grade": false,
     "grade_id": "cell-0049183958a51068",
     "locked": true,
     "schema_version": 3,
     "solution": false,
     "task": false
    }
   },
   "source": [
    "**Part B.** Let $X \\sim \\Gamma(2,1)$. Use `spi.quad` to compute $P(1 \\leq X \\leq 5)$. Save the result as `P3b`."
   ]
  },
  {
   "cell_type": "code",
   "execution_count": null,
   "id": "b7d1e07d-85f2-48f2-8767-31d9b5986723",
   "metadata": {
    "deletable": false,
    "nbgrader": {
     "cell_type": "code",
     "checksum": "3cc100264e6ec3d69ead363609b717c9",
     "grade": false,
     "grade_id": "cell-e4992445ac76dcaf",
     "locked": false,
     "schema_version": 3,
     "solution": true,
     "task": false
    },
    "tags": []
   },
   "outputs": [],
   "source": [
    "# YOUR CODE HERE"
   ]
  },
  {
   "cell_type": "code",
   "execution_count": null,
   "id": "556b0d42-5cc4-49b7-83f7-d5a888c38907",
   "metadata": {
    "deletable": false,
    "editable": false,
    "nbgrader": {
     "cell_type": "code",
     "checksum": "2f5b6a84fda48193f4d8ea7f6545e2c6",
     "grade": true,
     "grade_id": "cell-7d8a884ab699b8de",
     "locked": true,
     "points": 1,
     "schema_version": 3,
     "solution": false,
     "task": false
    },
    "tags": []
   },
   "outputs": [],
   "source": [
    "# Test 1: Verify P3b is a value between 0 and 1. (1 mark)\n",
    "assert P3b > 0\n",
    "assert P3b < 1\n",
    "print(\"Test 1: Success!\")"
   ]
  },
  {
   "cell_type": "code",
   "execution_count": null,
   "id": "1c69e6ba-593b-459a-bb8f-b0885b51cade",
   "metadata": {
    "deletable": false,
    "editable": false,
    "nbgrader": {
     "cell_type": "code",
     "checksum": "d6c87c18a7d6ea0aacb08d3e6d744b11",
     "grade": true,
     "grade_id": "cell-0b21464d94d13693",
     "locked": true,
     "points": 1,
     "schema_version": 3,
     "solution": false,
     "task": false
    },
    "tags": []
   },
   "outputs": [],
   "source": [
    "# Test 2: Verify P3b is the correct value. This cell contains hidden tests. (1 mark)"
   ]
  },
  {
   "cell_type": "markdown",
   "id": "0857ad4c-3d6a-414b-945f-27a0ceaafa52",
   "metadata": {
    "deletable": false,
    "editable": false,
    "nbgrader": {
     "cell_type": "markdown",
     "checksum": "6750a1d5cb407f3f9d9efb2b15b5cf88",
     "grade": false,
     "grade_id": "cell-dbf55e8734245d99",
     "locked": true,
     "schema_version": 3,
     "solution": false,
     "task": false
    },
    "tags": []
   },
   "source": [
    "## Problem 4 (2 marks)\n",
    "\n",
    "Let $X \\sim \\mathcal{N}(0,1)$ and $Y \\sim \\mathcal{N}(0,1)$ be independent random variables. Let $Z = X^2 + Y^2$. The code below generates $N$ random samples of $X$, $Y$ and $Z$."
   ]
  },
  {
   "cell_type": "code",
   "execution_count": null,
   "id": "8af02ba3-78e6-4a14-ad61-ffcc29c90f5a",
   "metadata": {
    "deletable": false,
    "editable": false,
    "nbgrader": {
     "cell_type": "code",
     "checksum": "fef230624945888eeae2e1a7a20fac8a",
     "grade": false,
     "grade_id": "cell-ad1f09784c9ada78",
     "locked": true,
     "schema_version": 3,
     "solution": false,
     "task": false
    },
    "tags": []
   },
   "outputs": [],
   "source": [
    "N = 2000\n",
    "X = np.random.randn(N)\n",
    "Y = np.random.randn(N)\n",
    "Z = X**2 + Y**2"
   ]
  },
  {
   "cell_type": "markdown",
   "id": "5523fe0b-b91d-4b38-a81f-288c817f2f33",
   "metadata": {
    "deletable": false,
    "editable": false,
    "nbgrader": {
     "cell_type": "markdown",
     "checksum": "09a4466b93787960b1f5688909f73191",
     "grade": false,
     "grade_id": "cell-bdd68f7196d30f67",
     "locked": true,
     "schema_version": 3,
     "solution": false,
     "task": false
    }
   },
   "source": [
    "Plot the samples $X$ and $Y$ as points $(X,Y) \\in \\mathbb{R}^2$. The result looks like the many trials of the random experiment of throwing a dart at a dart board."
   ]
  },
  {
   "cell_type": "code",
   "execution_count": null,
   "id": "7f0c720c-2cac-4906-b8ca-42e877afb743",
   "metadata": {
    "deletable": false,
    "editable": false,
    "nbgrader": {
     "cell_type": "code",
     "checksum": "36b8bb6d3f2e99084f385495a7cf4c3a",
     "grade": false,
     "grade_id": "cell-f6297c96cc8db553",
     "locked": true,
     "schema_version": 3,
     "solution": false,
     "task": false
    },
    "tags": []
   },
   "outputs": [],
   "source": [
    "plt.scatter(X,Y,s=10,lw=0,alpha=0.4)\n",
    "plt.xlim([-4,4])\n",
    "plt.ylim([-4,4])\n",
    "plt.show()"
   ]
  },
  {
   "cell_type": "markdown",
   "id": "6476ff0d-5195-43a3-865a-d0ec1b148e71",
   "metadata": {
    "deletable": false,
    "editable": false,
    "nbgrader": {
     "cell_type": "markdown",
     "checksum": "242d0ae06d56b147e8b5bcabbcbdb495",
     "grade": false,
     "grade_id": "cell-ce3c221ec19c03a1",
     "locked": true,
     "schema_version": 3,
     "solution": false,
     "task": false
    }
   },
   "source": [
    "Plot the histogram of the squared distance random variable $Z$."
   ]
  },
  {
   "cell_type": "code",
   "execution_count": null,
   "id": "b1da93c3-b0bc-46d2-b061-3322e88bf313",
   "metadata": {
    "deletable": false,
    "editable": false,
    "nbgrader": {
     "cell_type": "code",
     "checksum": "f9344720b1eb8f279eb35fde9ead3807",
     "grade": false,
     "grade_id": "cell-5a3f4a8868eeb0e9",
     "locked": true,
     "schema_version": 3,
     "solution": false,
     "task": false
    },
    "tags": []
   },
   "outputs": [],
   "source": [
    "plt.hist(Z,bins=100,density=True)\n",
    "plt.show()"
   ]
  },
  {
   "cell_type": "markdown",
   "id": "cd09c96d-2a54-4297-8c3a-10c101548f7d",
   "metadata": {
    "deletable": false,
    "editable": false,
    "nbgrader": {
     "cell_type": "markdown",
     "checksum": "68449894cbb41aee1f5c074cd41697a6",
     "grade": false,
     "grade_id": "cell-3b19053cc5480065",
     "locked": true,
     "schema_version": 3,
     "solution": false,
     "task": false
    },
    "tags": []
   },
   "source": [
    "Compute the empirical expectation (ie. the mean value) of $Z$."
   ]
  },
  {
   "cell_type": "code",
   "execution_count": null,
   "id": "a5c1d1f6-c945-4f62-9da2-1f97a704777d",
   "metadata": {
    "deletable": false,
    "editable": false,
    "nbgrader": {
     "cell_type": "code",
     "checksum": "eb55af12a8c272c4ec59f79ac4be0b4d",
     "grade": false,
     "grade_id": "cell-4d550888978a5e14",
     "locked": true,
     "schema_version": 3,
     "solution": false,
     "task": false
    },
    "tags": []
   },
   "outputs": [],
   "source": [
    "np.mean(Z)"
   ]
  },
  {
   "cell_type": "markdown",
   "id": "3c7bb394-959a-4dae-b6c9-2f051dfb17b1",
   "metadata": {
    "deletable": false,
    "editable": false,
    "nbgrader": {
     "cell_type": "markdown",
     "checksum": "f1b6a7d8217c7828babd7a59019b7408",
     "grade": false,
     "grade_id": "cell-d1485a15a2a4b1c0",
     "locked": true,
     "schema_version": 3,
     "solution": false,
     "task": false
    },
    "tags": []
   },
   "source": [
    "Run the code above several times and note the output. The emprical distribution of $Z$ looks like an exponential distribution. Determine the parameter $\\lambda$ such that $Z \\sim \\mathrm{Exp}(\\lambda)$. Save the result as `lambda4`."
   ]
  },
  {
   "cell_type": "code",
   "execution_count": null,
   "id": "5441f1e8-3c1a-4ce7-9d12-e6b4f6d55ddf",
   "metadata": {
    "deletable": false,
    "nbgrader": {
     "cell_type": "code",
     "checksum": "fca644de1192346216fa942b522dfe77",
     "grade": false,
     "grade_id": "cell-14067a212c39e9f3",
     "locked": false,
     "schema_version": 3,
     "solution": true,
     "task": false
    },
    "tags": []
   },
   "outputs": [],
   "source": [
    "# YOUR CODE HERE"
   ]
  },
  {
   "cell_type": "code",
   "execution_count": null,
   "id": "ddbfc03f-3178-45f1-8145-1f4a6aa55539",
   "metadata": {
    "deletable": false,
    "editable": false,
    "nbgrader": {
     "cell_type": "code",
     "checksum": "149cf68db59ee2f067ad47581ee2d701",
     "grade": true,
     "grade_id": "cell-4b7fbbaa0eb23aa6",
     "locked": true,
     "points": 1,
     "schema_version": 3,
     "solution": false,
     "task": false
    },
    "tags": []
   },
   "outputs": [],
   "source": [
    "# Test 1: Verify lamba4 is a value larger than 0. (1 mark)\n",
    "assert lambda4 > 0\n",
    "print(\"Test 1: Success!\")"
   ]
  },
  {
   "cell_type": "code",
   "execution_count": null,
   "id": "ffa7ce3d-7f42-4817-9f49-b2592bccee83",
   "metadata": {
    "deletable": false,
    "editable": false,
    "nbgrader": {
     "cell_type": "code",
     "checksum": "bcb054b1c6889a805130542d30121d78",
     "grade": true,
     "grade_id": "cell-67518435739013a0",
     "locked": true,
     "points": 1,
     "schema_version": 3,
     "solution": false,
     "task": false
    },
    "tags": []
   },
   "outputs": [],
   "source": [
    "# Test 2: Verify lambda4 is the correct value. This cell contains hidden tests. (1 mark)"
   ]
  },
  {
   "cell_type": "markdown",
   "id": "34dd7351-f6c5-47f8-83bd-ac3823e09cee",
   "metadata": {
    "deletable": false,
    "editable": false,
    "nbgrader": {
     "cell_type": "markdown",
     "checksum": "3e9651c0052f09de3a3bb466d79c8b96",
     "grade": false,
     "grade_id": "cell-ef2e00912c7fa7fe",
     "locked": true,
     "schema_version": 3,
     "solution": false,
     "task": false
    },
    "tags": []
   },
   "source": [
    "Plot the result:"
   ]
  },
  {
   "cell_type": "code",
   "execution_count": null,
   "id": "eaf0de4c-5759-4764-a68c-81d2a3416fc6",
   "metadata": {
    "deletable": false,
    "editable": false,
    "nbgrader": {
     "cell_type": "code",
     "checksum": "2ff7178f60346087ba0f5bd421dc6f32",
     "grade": false,
     "grade_id": "cell-c3827894e5820b24",
     "locked": true,
     "schema_version": 3,
     "solution": false,
     "task": false
    },
    "tags": []
   },
   "outputs": [],
   "source": [
    "plt.hist(Z,bins=100,density=True)\n",
    "x = np.linspace(0,12,200)\n",
    "y = lambda4*np.exp(-lambda4*x)\n",
    "plt.plot(x,y,'r')\n",
    "plt.show()"
   ]
  }
 ],
 "metadata": {
  "kernelspec": {
   "display_name": "Python 3 (ipykernel)",
   "language": "python",
   "name": "python3"
  },
  "language_info": {
   "codemirror_mode": {
    "name": "ipython",
    "version": 3
   },
   "file_extension": ".py",
   "mimetype": "text/x-python",
   "name": "python",
   "nbconvert_exporter": "python",
   "pygments_lexer": "ipython3",
   "version": "3.10.13"
  }
 },
 "nbformat": 4,
 "nbformat_minor": 5
}
