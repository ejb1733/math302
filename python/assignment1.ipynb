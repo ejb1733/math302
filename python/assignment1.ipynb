{
 "cells": [
  {
   "cell_type": "markdown",
   "id": "ec0ab2d2",
   "metadata": {
    "deletable": false,
    "editable": false,
    "nbgrader": {
     "cell_type": "markdown",
     "checksum": "7c5c82943df75de8802d22040acb2e2f",
     "grade": false,
     "grade_id": "cell-c299c1162a67c61f",
     "locked": true,
     "schema_version": 3,
     "solution": false,
     "task": false
    },
    "tags": []
   },
   "source": [
    "# MATH 302 Python Assignment 1\n",
    "\n",
    "## Instructions\n",
    "\n",
    "* Enter your solutions in cells with `YOUR CODE HERE` (all other cells are ignored by the autograder)\n",
    "* Run the tests to verify your work\n",
    "* Some cells contain hidden tests for grading\n",
    "* Do not import any pacakges (other than the standard packages in the cell below)\n",
    "* See [Python for UBC Math](https://ubcmath.github.io/python/) for instructions and examples\n",
    "* Submit the completed notebook to Canvas (download `.ipynb` file to your machine and then upload to Canvas)"
   ]
  },
  {
   "cell_type": "code",
   "execution_count": 50,
   "id": "6e407a11",
   "metadata": {
    "deletable": false,
    "editable": false,
    "nbgrader": {
     "cell_type": "code",
     "checksum": "29ada21885cc4dac86f6446d1754ca5c",
     "grade": false,
     "grade_id": "cell-41268891c1942582",
     "locked": true,
     "schema_version": 3,
     "solution": false,
     "task": false
    },
    "tags": []
   },
   "outputs": [],
   "source": [
    "import numpy as np\n",
    "import matplotlib.pyplot as plt\n",
    "import scipy.special as sp"
   ]
  },
  {
   "cell_type": "markdown",
   "id": "6d8068a7",
   "metadata": {
    "deletable": false,
    "editable": false,
    "nbgrader": {
     "cell_type": "markdown",
     "checksum": "b79ae09da18844aef856544957f9d007",
     "grade": false,
     "grade_id": "cell-ab42a434e07b038b",
     "locked": true,
     "schema_version": 3,
     "solution": false,
     "task": false
    },
    "tags": []
   },
   "source": [
    "## Problem 1 (9 marks)\n",
    "\n",
    "The code below generates samples of the random experiment of rolling three 6-sided dice and adding the result."
   ]
  },
  {
   "cell_type": "code",
   "execution_count": 51,
   "id": "a85c318d",
   "metadata": {
    "deletable": false,
    "editable": false,
    "nbgrader": {
     "cell_type": "code",
     "checksum": "5a97d274bdc38fe53cd7223c0f1fe850",
     "grade": false,
     "grade_id": "cell-10a694af149ba6fd",
     "locked": true,
     "schema_version": 3,
     "solution": false,
     "task": false
    },
    "tags": []
   },
   "outputs": [
    {
     "data": {
      "image/png": "[encoded data removed]",
      "text/plain": [
       "<Figure size 640x480 with 1 Axes>"
      ]
     },
     "metadata": {},
     "output_type": "display_data"
    },
    {
     "name": "stdout",
     "output_type": "stream",
     "text": [
      "Empirical probabilities: [0.004635 0.013894 0.027931 0.046572 0.069291 0.096957 0.115819 0.12467\n",
      " 0.124953 0.115927 0.097071 0.069689 0.046067 0.027954 0.013978 0.004592]\n",
      "Empirical expectation: 10.500059\n",
      "Empirical variance: 8.762085996519\n"
     ]
    }
   ],
   "source": [
    "ndice = 3\n",
    "nsides = 6\n",
    "nsamples = 1000000\n",
    "samples = np.random.randint(1,nsides+1,size=(nsamples,ndice))\n",
    "results = np.sum(samples,axis=1)\n",
    "eprobs,bins,fig = plt.hist(results,bins=range(ndice,nsides*ndice+2),density=True,align='left',rwidth=0.75)\n",
    "plt.grid(True), plt.title(\"Rolling three 6-sided dice\"), plt.xlabel(\"Value\"), plt.ylabel(\"Empirical Probability\")\n",
    "plt.show()\n",
    "print(\"Empirical probabilities:\",eprobs)\n",
    "values = np.arange(ndice,nsides*ndice+1)\n",
    "eexp = np.dot(eprobs,values)\n",
    "evar = np.dot(eprobs,(values - eexp)**2)\n",
    "print(\"Empirical expectation:\",eexp)\n",
    "print(\"Empirical variance:\",evar)"
   ]
  },
  {
   "cell_type": "markdown",
   "id": "bc3220a4",
   "metadata": {
    "deletable": false,
    "editable": false,
    "nbgrader": {
     "cell_type": "markdown",
     "checksum": "e6dd0cc2136732b01ee99c0001534598",
     "grade": false,
     "grade_id": "cell-e8bd42bb0d407790",
     "locked": true,
     "schema_version": 3,
     "solution": false,
     "task": false
    },
    "tags": []
   },
   "source": [
    "**Part a.** Compute the expectation and variance of rolling three 6-sided dice and taking the sum. Save your responses as `exp1a` and `var1a`. Do the analysis with pen and paper and then enter the result in the cell below. We are expecting the exact answer. Run the code above many times and observe the results to verify if your answer is correct."
   ]
  },
  {
   "cell_type": "code",
   "execution_count": 52,
   "id": "f2840d19",
   "metadata": {
    "deletable": false,
    "nbgrader": {
     "cell_type": "code",
     "checksum": "48f729819b8809610f606e3b3838d301",
     "grade": false,
     "grade_id": "cell-67b4f59d7c190863",
     "locked": false,
     "schema_version": 3,
     "solution": true,
     "task": false
    },
    "tags": []
   },
   "outputs": [],
   "source": [
    "# YOUR CODE HERE\n",
    "exp1a = 10.5\n",
    "var1a = 8.75"
   ]
  },
  {
   "cell_type": "code",
   "execution_count": 53,
   "id": "5aebc737",
   "metadata": {
    "deletable": false,
    "editable": false,
    "nbgrader": {
     "cell_type": "code",
     "checksum": "6e1f8ef7a7c55fbd2f92872ba3f5a404",
     "grade": true,
     "grade_id": "cell-9c2a82da273fadf7",
     "locked": true,
     "points": 1,
     "schema_version": 3,
     "solution": false,
     "task": false
    },
    "tags": []
   },
   "outputs": [
    {
     "name": "stdout",
     "output_type": "stream",
     "text": [
      "Test 1: Success!\n"
     ]
    }
   ],
   "source": [
    "# Test 1: Verify exp1a is a value between 0 and 18. (1 mark)\n",
    "assert exp1a > 0\n",
    "assert exp1a < 18\n",
    "print(\"Test 1: Success!\")"
   ]
  },
  {
   "cell_type": "code",
   "execution_count": 54,
   "id": "e0a00141",
   "metadata": {
    "deletable": false,
    "editable": false,
    "nbgrader": {
     "cell_type": "code",
     "checksum": "ad2756c6d09038fa9733b7935c053f6f",
     "grade": true,
     "grade_id": "cell-f12685d30b8738f9",
     "locked": true,
     "points": 1,
     "schema_version": 3,
     "solution": false,
     "task": false
    },
    "tags": []
   },
   "outputs": [
    {
     "name": "stdout",
     "output_type": "stream",
     "text": [
      "Test 2: Success!\n"
     ]
    }
   ],
   "source": [
    "# Test 2: Verify var1a is positive. (1 mark)\n",
    "assert var1a > 0\n",
    "print(\"Test 2: Success!\")"
   ]
  },
  {
   "cell_type": "code",
   "execution_count": 55,
   "id": "e25e40c3",
   "metadata": {
    "deletable": false,
    "editable": false,
    "nbgrader": {
     "cell_type": "code",
     "checksum": "c89d82109c8445941af51eebc20b0fb0",
     "grade": true,
     "grade_id": "cell-4fc33f01435d7991",
     "locked": true,
     "points": 1,
     "schema_version": 3,
     "solution": false,
     "task": false
    },
    "tags": []
   },
   "outputs": [],
   "source": [
    "# Test 3: Verify exp1a and var1a are the correct values. This cell contains hidden tests. (1 mark)"
   ]
  },
  {
   "cell_type": "markdown",
   "id": "62436f65",
   "metadata": {
    "deletable": false,
    "editable": false,
    "nbgrader": {
     "cell_type": "markdown",
     "checksum": "0c616f8f71168e31add2c7302e8d66f0",
     "grade": false,
     "grade_id": "cell-cb71fa46ce806c72",
     "locked": true,
     "schema_version": 3,
     "solution": false,
     "task": false
    },
    "tags": []
   },
   "source": [
    "**Part b.** What is the probability of rolling 9? Save your answer as `prob1b`. Do the analysis with pen and paper and then enter the result in the cell below. We are expecting the answer correct to 12 decimal places. Run the code above many times and observe the results to verify if your answer is correct."
   ]
  },
  {
   "cell_type": "code",
   "execution_count": 56,
   "id": "b584f6db",
   "metadata": {
    "deletable": false,
    "nbgrader": {
     "cell_type": "code",
     "checksum": "0ebca373e08996ce5163a8bc0cbdf8e4",
     "grade": false,
     "grade_id": "cell-87254ee9d8bd3799",
     "locked": false,
     "schema_version": 3,
     "solution": true,
     "task": false
    },
    "tags": []
   },
   "outputs": [
    {
     "name": "stdout",
     "output_type": "stream",
     "text": [
      "0.11574074074074074\n"
     ]
    }
   ],
   "source": [
    "# YOUR CODE HERE\n",
    "# prob1b = 0.115740740741\n",
    "prob1b = 25/216\n",
    "print(prob1b)"
   ]
  },
  {
   "cell_type": "code",
   "execution_count": 57,
   "id": "f8f177ea",
   "metadata": {
    "deletable": false,
    "editable": false,
    "nbgrader": {
     "cell_type": "code",
     "checksum": "34b591e487164e2269d916c7489ec4a3",
     "grade": true,
     "grade_id": "cell-d0f7151e2be97296",
     "locked": true,
     "points": 1,
     "schema_version": 3,
     "solution": false,
     "task": false
    },
    "tags": []
   },
   "outputs": [
    {
     "name": "stdout",
     "output_type": "stream",
     "text": [
      "Test 1: Success!\n"
     ]
    }
   ],
   "source": [
    "# Test 1: Verify prob1b is a value between 0 and 1. (1 mark)\n",
    "assert prob1b > 0\n",
    "assert prob1b < 1\n",
    "print(\"Test 1: Success!\")"
   ]
  },
  {
   "cell_type": "code",
   "execution_count": 58,
   "id": "c3e1dd7c",
   "metadata": {
    "deletable": false,
    "editable": false,
    "nbgrader": {
     "cell_type": "code",
     "checksum": "e0fde4d9422f85a4392a6c55b0ec5ea6",
     "grade": true,
     "grade_id": "cell-c36354a9e7095a86",
     "locked": true,
     "points": 1,
     "schema_version": 3,
     "solution": false,
     "task": false
    },
    "tags": []
   },
   "outputs": [
    {
     "name": "stdout",
     "output_type": "stream",
     "text": [
      "Test 2: Success!\n"
     ]
    }
   ],
   "source": [
    "# Test 2: Verify prob1b is approximately the correct value. (1 mark)\n",
    "assert np.round(prob1b,1) == 0.1\n",
    "print(\"Test 2: Success!\")"
   ]
  },
  {
   "cell_type": "code",
   "execution_count": 59,
   "id": "99708813",
   "metadata": {
    "deletable": false,
    "editable": false,
    "nbgrader": {
     "cell_type": "code",
     "checksum": "9f93e54aee5b6e87e89db0024cc3f866",
     "grade": true,
     "grade_id": "cell-7d423fff3d6eb35f",
     "locked": true,
     "points": 1,
     "schema_version": 3,
     "solution": false,
     "task": false
    },
    "tags": []
   },
   "outputs": [],
   "source": [
    "# Test 3: Verify prob1b is the correct value. This cell contains hidden tests. (1 mark)"
   ]
  },
  {
   "cell_type": "markdown",
   "id": "956ed7ca",
   "metadata": {
    "deletable": false,
    "editable": false,
    "nbgrader": {
     "cell_type": "markdown",
     "checksum": "fa5e365184b402353e876204cabf1581",
     "grade": false,
     "grade_id": "cell-eddbb6ba75bc3c7c",
     "locked": true,
     "schema_version": 3,
     "solution": false,
     "task": false
    },
    "tags": []
   },
   "source": [
    "**Part c.** What is the probability of rolling 10? Save your answer as `prob1c`. Do the analysis with pen and paper and then enter the result in the cell below. We are expecting the answer correct to 12 decimal places. Run the code above many times and observe the results to verify if your answer is correct."
   ]
  },
  {
   "cell_type": "code",
   "execution_count": 60,
   "id": "b53bd1ac",
   "metadata": {
    "deletable": false,
    "nbgrader": {
     "cell_type": "code",
     "checksum": "9189647ddd750e9fe992dfe4ead4715d",
     "grade": false,
     "grade_id": "cell-bf4740d1481106bf",
     "locked": false,
     "schema_version": 3,
     "solution": true,
     "task": false
    },
    "tags": []
   },
   "outputs": [],
   "source": [
    "# YOUR CODE HERE\n",
    "prob1c = 0.125"
   ]
  },
  {
   "cell_type": "code",
   "execution_count": 61,
   "id": "338e9ce6",
   "metadata": {
    "deletable": false,
    "editable": false,
    "nbgrader": {
     "cell_type": "code",
     "checksum": "dd15c18bd28cce05f8a30e3eef34ef74",
     "grade": true,
     "grade_id": "cell-a7641155d8e8727f",
     "locked": true,
     "points": 1,
     "schema_version": 3,
     "solution": false,
     "task": false
    },
    "tags": []
   },
   "outputs": [
    {
     "name": "stdout",
     "output_type": "stream",
     "text": [
      "Test 1: Success!\n"
     ]
    }
   ],
   "source": [
    "# Test 1: Verify prob1c is a value between 0 and 1. (1 mark)\n",
    "assert prob1c > 0\n",
    "assert prob1c < 1\n",
    "print(\"Test 1: Success!\")"
   ]
  },
  {
   "cell_type": "code",
   "execution_count": 62,
   "id": "9dbd0cbb",
   "metadata": {
    "deletable": false,
    "editable": false,
    "nbgrader": {
     "cell_type": "code",
     "checksum": "847af9eccb6beb8e5c98d0bd5824e85e",
     "grade": true,
     "grade_id": "cell-ee94f872e199c717",
     "locked": true,
     "points": 1,
     "schema_version": 3,
     "solution": false,
     "task": false
    },
    "tags": []
   },
   "outputs": [
    {
     "name": "stdout",
     "output_type": "stream",
     "text": [
      "Test 2: Success!\n"
     ]
    }
   ],
   "source": [
    "# Test 2: Verify prob1c is approximately the correct value. (1 mark)\n",
    "assert np.round(prob1c,1) == 0.1\n",
    "print(\"Test 2: Success!\")"
   ]
  },
  {
   "cell_type": "code",
   "execution_count": 63,
   "id": "79ea6217",
   "metadata": {
    "deletable": false,
    "editable": false,
    "nbgrader": {
     "cell_type": "code",
     "checksum": "9e7e77ff3b23d0233ad416d812dccc32",
     "grade": true,
     "grade_id": "cell-7ba1defcc3590e22",
     "locked": true,
     "points": 1,
     "schema_version": 3,
     "solution": false,
     "task": false
    },
    "tags": []
   },
   "outputs": [],
   "source": [
    "# Test 3: Verify prob1c is the correct value. This cell contains hidden tests. (1 mark)"
   ]
  },
  {
   "cell_type": "markdown",
   "id": "eebfb648",
   "metadata": {
    "deletable": false,
    "editable": false,
    "nbgrader": {
     "cell_type": "markdown",
     "checksum": "9312f6e2f8dab920f51a6ef74fece5ff",
     "grade": false,
     "grade_id": "cell-6086b1f2286b21d9",
     "locked": true,
     "schema_version": 3,
     "solution": false,
     "task": false
    },
    "tags": []
   },
   "source": [
    "**Remark**: This problem is inspired from a text by Galilei ([Sopra le Scoperte dei Dadi](https://web.universiteitleiden.nl/fsw/verduin/stathist/stathist.htm), 1620) and a problem asked by the Grand Duke of Tuscany on a game from the middle ages called [zara](https://en.wikipedia.org/wiki/Zara_(game))."
   ]
  },
  {
   "cell_type": "markdown",
   "id": "07f8d80c",
   "metadata": {
    "deletable": false,
    "editable": false,
    "nbgrader": {
     "cell_type": "markdown",
     "checksum": "b90b9ee4e68d24f3eb54d7912aaf4667",
     "grade": false,
     "grade_id": "cell-f5758b787ac8b608",
     "locked": true,
     "schema_version": 3,
     "solution": false,
     "task": false
    },
    "tags": []
   },
   "source": [
    "## Problem 2 (9 marks)\n",
    "\n",
    "Consider a 6-sided dice but, instead of numbers 1 through 6 on the sides, the dice has numbers 1 through 4 and then two different sides have 5. In other words, the probability of rolling 5 is 1/3 and the probability of rolling the other values 1 to 4 is 1/6 as usual.\n",
    "\n",
    "The code below generate `nsamples` samples of rolling `ndice` of these 6-sided dice with two sides with 5s and adding the result. Run the code and observe the results."
   ]
  },
  {
   "cell_type": "code",
   "execution_count": 64,
   "id": "0204add5",
   "metadata": {
    "deletable": false,
    "editable": false,
    "nbgrader": {
     "cell_type": "code",
     "checksum": "7be923322470e865c62e6437f3e06366",
     "grade": false,
     "grade_id": "cell-761a9d44dd81883e",
     "locked": true,
     "schema_version": 3,
     "solution": false,
     "task": false
    },
    "tags": []
   },
   "outputs": [
    {
     "data": {
      "image/png": "[encoded data removed]",
      "text/plain": [
       "<Figure size 640x480 with 1 Axes>"
      ]
     },
     "metadata": {},
     "output_type": "display_data"
    },
    {
     "name": "stdout",
     "output_type": "stream",
     "text": [
      "Empirical probabilities: [0.027658 0.055611 0.08304  0.111923 0.194715 0.166747 0.138892 0.111024\n",
      " 0.11039 ]\n",
      "Empirical expectation: 6.663695\n",
      "Empirical variance: 4.434389946975\n"
     ]
    }
   ],
   "source": [
    "omega = [1,2,3,4,5]\n",
    "probs = [1/6,1/6,1/6,1/6,1/3]\n",
    "nsamples = 1000000\n",
    "ndice = 2\n",
    "samples = np.random.choice(omega,size=(nsamples,ndice),p=probs)\n",
    "results = np.sum(samples,axis=1)\n",
    "eprobs,bins,fig = plt.hist(results,bins=range(ndice,5*ndice+2),density=True,align='left',rwidth=0.75)\n",
    "plt.grid(True)\n",
    "plt.show()\n",
    "print(\"Empirical probabilities:\",eprobs)\n",
    "values = np.arange(ndice,ndice*5+1)\n",
    "eexp = np.dot(eprobs,values)\n",
    "evar = np.dot(eprobs,(values - eexp)**2)\n",
    "print(\"Empirical expectation:\",eexp)\n",
    "print(\"Empirical variance:\",evar)"
   ]
  },
  {
   "cell_type": "markdown",
   "id": "9428773b",
   "metadata": {
    "deletable": false,
    "editable": false,
    "nbgrader": {
     "cell_type": "markdown",
     "checksum": "5fe73c0686081ef5a37df7c778cc6c51",
     "grade": false,
     "grade_id": "cell-c0213290d2a350ef",
     "locked": true,
     "schema_version": 3,
     "solution": false,
     "task": false
    },
    "tags": []
   },
   "source": [
    "**Part a.** Compute the expectation and variance of rolling two of these 6-sided dice with two 5s and taking the sum. Save your responses as `exp2a` and `var2a`. Do the analysis with pen and paper and then enter the result in the cell below. We are expecting the exact answer. Run the code above many times and observe the results to verify if your answer is correct."
   ]
  },
  {
   "cell_type": "code",
   "execution_count": 65,
   "id": "3056e755",
   "metadata": {
    "deletable": false,
    "nbgrader": {
     "cell_type": "code",
     "checksum": "1c8e60e322a7f5156b3f2fb115861c08",
     "grade": false,
     "grade_id": "cell-dab73e053aab0747",
     "locked": false,
     "schema_version": 3,
     "solution": true,
     "task": false
    },
    "tags": []
   },
   "outputs": [],
   "source": [
    "# YOUR CODE HERE\n",
    "exp2a = 20/3\n",
    "var2a = 40/9"
   ]
  },
  {
   "cell_type": "code",
   "execution_count": 66,
   "id": "72494c94",
   "metadata": {
    "deletable": false,
    "editable": false,
    "nbgrader": {
     "cell_type": "code",
     "checksum": "7e521640b9d508be22e949386b6b7bcf",
     "grade": true,
     "grade_id": "cell-9bf75d37fc309398",
     "locked": true,
     "points": 1,
     "schema_version": 3,
     "solution": false,
     "task": false
    },
    "tags": []
   },
   "outputs": [
    {
     "name": "stdout",
     "output_type": "stream",
     "text": [
      "Test 1: Success!\n"
     ]
    }
   ],
   "source": [
    "# Test 1: Verify exp2a is a value between 0 and 10. (1 mark)\n",
    "assert exp2a > 0\n",
    "assert exp2a < 10\n",
    "print(\"Test 1: Success!\")"
   ]
  },
  {
   "cell_type": "code",
   "execution_count": 67,
   "id": "2036d695",
   "metadata": {
    "deletable": false,
    "editable": false,
    "nbgrader": {
     "cell_type": "code",
     "checksum": "c4f81892b4eb99b7ccca90bf136ad080",
     "grade": true,
     "grade_id": "cell-ff08cc228429d7fa",
     "locked": true,
     "points": 1,
     "schema_version": 3,
     "solution": false,
     "task": false
    },
    "tags": []
   },
   "outputs": [
    {
     "name": "stdout",
     "output_type": "stream",
     "text": [
      "Test 2: Success!\n"
     ]
    }
   ],
   "source": [
    "# Test 2: Verify var2a is positive. (1 mark)\n",
    "assert var2a > 0\n",
    "print(\"Test 2: Success!\")"
   ]
  },
  {
   "cell_type": "code",
   "execution_count": 68,
   "id": "e370479b",
   "metadata": {
    "deletable": false,
    "editable": false,
    "nbgrader": {
     "cell_type": "code",
     "checksum": "d320debe487604af24a554738a1d6a54",
     "grade": true,
     "grade_id": "cell-770050a731d3918e",
     "locked": true,
     "points": 1,
     "schema_version": 3,
     "solution": false,
     "task": false
    },
    "tags": []
   },
   "outputs": [],
   "source": [
    "# Test 3: Verify exp2a and var2a are the correct values. This cell contains hidden tests. (1 mark)"
   ]
  },
  {
   "cell_type": "markdown",
   "id": "22f1ffaa",
   "metadata": {
    "deletable": false,
    "editable": false,
    "nbgrader": {
     "cell_type": "markdown",
     "checksum": "17a87f665a612770248c806817bcd930",
     "grade": false,
     "grade_id": "cell-1a45ce5a60bec06c",
     "locked": true,
     "schema_version": 3,
     "solution": false,
     "task": false
    },
    "tags": []
   },
   "source": [
    "**Part b.** What is the probability of rolling 10? Save your response as `prob2b`. Do the analysis with pen and paper and then enter the result in the cell below. We are expecting the answer correct to 12 decimal places. Run the code above many times and observe the results to verify if your answer is correct."
   ]
  },
  {
   "cell_type": "code",
   "execution_count": 69,
   "id": "1fe3cbc4",
   "metadata": {
    "deletable": false,
    "nbgrader": {
     "cell_type": "code",
     "checksum": "d726ebee711b23a0a9ed443002f54077",
     "grade": false,
     "grade_id": "cell-a907b3e2eaccc655",
     "locked": false,
     "schema_version": 3,
     "solution": true,
     "task": false
    },
    "tags": []
   },
   "outputs": [],
   "source": [
    "# YOUR CODE HERE\n",
    "prob2b = 4/36"
   ]
  },
  {
   "cell_type": "code",
   "execution_count": 70,
   "id": "dd6f1757",
   "metadata": {
    "deletable": false,
    "editable": false,
    "nbgrader": {
     "cell_type": "code",
     "checksum": "efdaa3fe78f5825dadf6f9590bbb874e",
     "grade": true,
     "grade_id": "cell-cb2aa9e78cd26e53",
     "locked": true,
     "points": 1,
     "schema_version": 3,
     "solution": false,
     "task": false
    },
    "tags": []
   },
   "outputs": [
    {
     "name": "stdout",
     "output_type": "stream",
     "text": [
      "Test 1: Success!\n"
     ]
    }
   ],
   "source": [
    "# Test 1: Verify prob2b is a value between 0 and 1. (1 mark)\n",
    "assert prob2b > 0\n",
    "assert prob2b < 1\n",
    "print(\"Test 1: Success!\")"
   ]
  },
  {
   "cell_type": "code",
   "execution_count": 71,
   "id": "c1879401",
   "metadata": {
    "deletable": false,
    "editable": false,
    "nbgrader": {
     "cell_type": "code",
     "checksum": "9de04b96cb4b40c4e6fc23c3ec47f119",
     "grade": true,
     "grade_id": "cell-3d5c446310f723aa",
     "locked": true,
     "points": 1,
     "schema_version": 3,
     "solution": false,
     "task": false
    },
    "tags": []
   },
   "outputs": [
    {
     "name": "stdout",
     "output_type": "stream",
     "text": [
      "Test 2: Success!\n"
     ]
    }
   ],
   "source": [
    "# Test 2: Verify prob2b is approximately the correct value. (1 mark)\n",
    "assert np.round(prob2b,1) == 0.1\n",
    "print(\"Test 2: Success!\")"
   ]
  },
  {
   "cell_type": "code",
   "execution_count": 72,
   "id": "c48c080d",
   "metadata": {
    "deletable": false,
    "editable": false,
    "nbgrader": {
     "cell_type": "code",
     "checksum": "3aa19e35d213c09cc36b3dab18736707",
     "grade": true,
     "grade_id": "cell-1fdd85f92c735e4c",
     "locked": true,
     "points": 1,
     "schema_version": 3,
     "solution": false,
     "task": false
    },
    "tags": []
   },
   "outputs": [],
   "source": [
    "# Test 3: Verify prob2b is the correct value. This cell contains hidden tests. (1 mark)"
   ]
  },
  {
   "cell_type": "markdown",
   "id": "7d0c27ad",
   "metadata": {
    "deletable": false,
    "editable": false,
    "nbgrader": {
     "cell_type": "markdown",
     "checksum": "b281bc61a3e24ad54ef1671dc385b96c",
     "grade": false,
     "grade_id": "cell-50fb3e34c6199091",
     "locked": true,
     "schema_version": 3,
     "solution": false,
     "task": false
    },
    "tags": []
   },
   "source": [
    "**Part c.** What is the probability of rolling 6? Save your response as `prob2c`. Do the analysis with pen and paper and then enter the result in the cell below. We are expecting the answer correct to 12 decimal places. Run the code above many times and observe the results to verify if your answer is correct."
   ]
  },
  {
   "cell_type": "code",
   "execution_count": 73,
   "id": "309fc0be",
   "metadata": {
    "deletable": false,
    "nbgrader": {
     "cell_type": "code",
     "checksum": "8afe576f8f16d58a6fd218cc3eea4a93",
     "grade": false,
     "grade_id": "cell-cb5c689384695923",
     "locked": false,
     "schema_version": 3,
     "solution": true,
     "task": false
    },
    "tags": []
   },
   "outputs": [],
   "source": [
    "# YOUR CODE HERE\n",
    "prob2c = 7/36"
   ]
  },
  {
   "cell_type": "code",
   "execution_count": 74,
   "id": "f34cd912",
   "metadata": {
    "deletable": false,
    "editable": false,
    "nbgrader": {
     "cell_type": "code",
     "checksum": "6b116d4e729c973845f367f28363be49",
     "grade": true,
     "grade_id": "cell-2b091d2cc4fe4a17",
     "locked": true,
     "points": 1,
     "schema_version": 3,
     "solution": false,
     "task": false
    },
    "tags": []
   },
   "outputs": [
    {
     "name": "stdout",
     "output_type": "stream",
     "text": [
      "Test 1: Success!\n"
     ]
    }
   ],
   "source": [
    "# Test 1: Verify prob2c is a value between 0 and 1. (1 mark)\n",
    "assert prob2c > 0\n",
    "assert prob2c < 1\n",
    "print(\"Test 1: Success!\")"
   ]
  },
  {
   "cell_type": "code",
   "execution_count": 75,
   "id": "1b37d703",
   "metadata": {
    "deletable": false,
    "editable": false,
    "nbgrader": {
     "cell_type": "code",
     "checksum": "f16d0b07b8e1409fdf528a774f6e69ea",
     "grade": true,
     "grade_id": "cell-da615ad38f8f52bc",
     "locked": true,
     "points": 1,
     "schema_version": 3,
     "solution": false,
     "task": false
    },
    "tags": []
   },
   "outputs": [
    {
     "name": "stdout",
     "output_type": "stream",
     "text": [
      "Test 2: Success!\n"
     ]
    }
   ],
   "source": [
    "# Test 2: Verify prob2c is approximately the correct value. (1 mark)\n",
    "assert np.round(prob2c,1) == 0.2\n",
    "print(\"Test 2: Success!\")"
   ]
  },
  {
   "cell_type": "code",
   "execution_count": 76,
   "id": "aab64776",
   "metadata": {
    "deletable": false,
    "editable": false,
    "nbgrader": {
     "cell_type": "code",
     "checksum": "17edb7a2f387c97b2173cfec7cdbb117",
     "grade": true,
     "grade_id": "cell-955c3f198e5d86a4",
     "locked": true,
     "points": 1,
     "schema_version": 3,
     "solution": false,
     "task": false
    },
    "tags": []
   },
   "outputs": [],
   "source": [
    "# Test 3: Verify prob2c is the correct value. This cell contains hidden tests. (1 mark)"
   ]
  },
  {
   "cell_type": "markdown",
   "id": "dd6f4ee5",
   "metadata": {
    "deletable": false,
    "editable": false,
    "nbgrader": {
     "cell_type": "markdown",
     "checksum": "80a212c0fa2bb9f48ec61a69b3ec3adb",
     "grade": false,
     "grade_id": "cell-5e06847b7dc0c8cf",
     "locked": true,
     "schema_version": 3,
     "solution": false,
     "task": false
    },
    "tags": []
   },
   "source": [
    "## Problem 3 (4 marks)\n",
    "\n",
    "Consider a weighted coin such that a flip results in heads with probability $p$. The code below generates random samples of the experiment consisting of flipping $n$ such coins and counting the number of heads."
   ]
  },
  {
   "cell_type": "code",
   "execution_count": 77,
   "id": "21c0711b",
   "metadata": {
    "tags": []
   },
   "outputs": [
    {
     "data": {
      "image/png": "[encoded data removed]",
      "text/plain": [
       "<Figure size 640x480 with 1 Axes>"
      ]
     },
     "metadata": {},
     "output_type": "display_data"
    },
    {
     "name": "stdout",
     "output_type": "stream",
     "text": [
      "Empirical probabilities: [1.7650e-02 8.5260e-02 1.9525e-01 2.6080e-01 2.2896e-01 1.3632e-01\n",
      " 5.6600e-02 1.5810e-02 2.8800e-03 4.6000e-04 1.0000e-05]\n"
     ]
    }
   ],
   "source": [
    "ncoins = 10\n",
    "p = 1/3\n",
    "probs = [1 - p,p] \n",
    "nsamples = 100000\n",
    "samples = np.random.choice([0,1],size=(nsamples,ncoins),p=probs)\n",
    "results = np.sum(samples,axis=1)\n",
    "eprobs,bins,fig = plt.hist(results,bins=range(0,ncoins+2),density=True,align='left',rwidth=0.75)\n",
    "plt.grid(True)\n",
    "plt.show()\n",
    "print(\"Empirical probabilities:\",eprobs)"
   ]
  },
  {
   "cell_type": "markdown",
   "id": "73202fb7",
   "metadata": {
    "deletable": false,
    "editable": false,
    "nbgrader": {
     "cell_type": "markdown",
     "checksum": "0b89b8bf3f7eb16dbe3ba1467f29b86f",
     "grade": false,
     "grade_id": "cell-3a03d7e3b9fe706b",
     "locked": true,
     "schema_version": 3,
     "solution": false,
     "task": false
    },
    "tags": []
   },
   "source": [
    "Let $X$ be the random variable defined as the number of heads when flipping $n$ coins weighted with heads with probability $p$. We know that $X$ is given by the binomial distribution\n",
    "\n",
    "$$\n",
    "P(X=k) = {n \\choose k} p^k (1 - p)^{n-k}\n",
    "$$\n",
    "\n",
    "The following code plots the binomial distribution for parameters $n$ and $p$. The plot above should be approximately the same as the plot below when $n$ is the number of coins. Run the cell below with different values $n$ and $p$ and observe how the distribution changes."
   ]
  },
  {
   "cell_type": "code",
   "execution_count": 78,
   "id": "cf1f21ac",
   "metadata": {
    "tags": []
   },
   "outputs": [
    {
     "data": {
      "image/png": "[encoded data removed]",
      "text/plain": [
       "<Figure size 640x480 with 1 Axes>"
      ]
     },
     "metadata": {},
     "output_type": "display_data"
    },
    {
     "name": "stdout",
     "output_type": "stream",
     "text": [
      "Probabilities: [8.58993459e-02 2.36223201e-01 2.95279002e-01 2.21459251e-01\n",
      " 1.10729626e-01 3.87553690e-02 9.68884224e-03 1.73015040e-03\n",
      " 2.16268800e-04 1.80224000e-05 9.01120000e-07 2.04800000e-08]\n"
     ]
    }
   ],
   "source": [
    "n = 11\n",
    "k = np.arange(0,n+1)\n",
    "p = 1/5\n",
    "probs = sp.comb(n,k)*p**k*(1 - p)**(n - k)\n",
    "plt.bar(k,probs), plt.grid(True)\n",
    "plt.show()\n",
    "\n",
    "print(\"Probabilities:\",probs)"
   ]
  },
  {
   "cell_type": "markdown",
   "id": "cc21b5b5",
   "metadata": {
    "deletable": false,
    "editable": false,
    "nbgrader": {
     "cell_type": "markdown",
     "checksum": "4250ab40c59ed5cf4f0b89e2ea515044",
     "grade": false,
     "grade_id": "cell-9ebac0ca61dec079",
     "locked": true,
     "schema_version": 3,
     "solution": false,
     "task": false
    },
    "tags": []
   },
   "source": [
    "Modify and run the code above to answer the questions below. Note that you can sum the probabilities from index $i$ to $j$ with the command `np.sum(probs[i:j+1])`.\n",
    "\n",
    "**Part a.** Determine whether the statement is **True** or **False**: It is more likely to flip 4 heads from 10 coins with heads probability 1/4 than 4 heads from 11 coins with heads probability 1/5.  \n",
    "\n",
    "Enter your response as `True` or `False` and save as `prob3a`."
   ]
  },
  {
   "cell_type": "code",
   "execution_count": 79,
   "id": "975d4f5e",
   "metadata": {
    "deletable": false,
    "nbgrader": {
     "cell_type": "code",
     "checksum": "6489c039c62a77cc65e6ac7becfc8a25",
     "grade": false,
     "grade_id": "cell-ef42122df1e1d0fd",
     "locked": false,
     "schema_version": 3,
     "solution": true,
     "task": false
    },
    "tags": []
   },
   "outputs": [],
   "source": [
    "# YOUR CODE HERE\n",
    "prob3a = True"
   ]
  },
  {
   "cell_type": "code",
   "execution_count": 80,
   "id": "de584bb5",
   "metadata": {
    "deletable": false,
    "editable": false,
    "nbgrader": {
     "cell_type": "code",
     "checksum": "a14c39e92263370fbfe8c5ead7858cbe",
     "grade": true,
     "grade_id": "cell-8041cdb7e4f9e3f5",
     "locked": true,
     "points": 1,
     "schema_version": 3,
     "solution": false,
     "task": false
    },
    "tags": []
   },
   "outputs": [
    {
     "name": "stdout",
     "output_type": "stream",
     "text": [
      "Test 1: Success!\n"
     ]
    }
   ],
   "source": [
    "# Test 1: Verify prob3a is a boolean value (True or False). (1 mark)\n",
    "assert isinstance(prob3a,bool)\n",
    "print(\"Test 1: Success!\")"
   ]
  },
  {
   "cell_type": "code",
   "execution_count": 81,
   "id": "d717ab1a",
   "metadata": {
    "deletable": false,
    "editable": false,
    "nbgrader": {
     "cell_type": "code",
     "checksum": "ffd39a2d0173bfb12e63c65e9c4643ce",
     "grade": true,
     "grade_id": "cell-29b053cfe53c1301",
     "locked": true,
     "points": 1,
     "schema_version": 3,
     "solution": false,
     "task": false
    },
    "tags": []
   },
   "outputs": [],
   "source": [
    "# Test 2: Verify prob3a is the correct value. This cell contains hidden tests. (1 mark)"
   ]
  },
  {
   "cell_type": "markdown",
   "id": "cd19161d",
   "metadata": {
    "deletable": false,
    "editable": false,
    "nbgrader": {
     "cell_type": "markdown",
     "checksum": "2e27d20189693dbff84ae9b04cbb180d",
     "grade": false,
     "grade_id": "cell-4a0992d2953b2d6c",
     "locked": true,
     "schema_version": 3,
     "solution": false,
     "task": false
    },
    "tags": []
   },
   "source": [
    "**Part b.** Determine whether the statement is **True** or **False**: It is more likely to flip 2 or fewer heads from 12 coins with heads probability 1/5 than 3 or fewer heads from 11 coins with heads probability 1/5.  \n",
    "\n",
    "Modify and run the code above to answer the question. Enter your response as `True` or `False` and save as `prob3b`."
   ]
  },
  {
   "cell_type": "code",
   "execution_count": 82,
   "id": "f93c7b23",
   "metadata": {
    "deletable": false,
    "nbgrader": {
     "cell_type": "code",
     "checksum": "92599df3c9e52eba6ae4324d7ccd498f",
     "grade": false,
     "grade_id": "cell-1972e0f9239bc027",
     "locked": false,
     "schema_version": 3,
     "solution": true,
     "task": false
    },
    "tags": []
   },
   "outputs": [],
   "source": [
    "# YOUR CODE HERE\n",
    "prob3b = False\n",
    "# np.sum(probs[0:4])"
   ]
  },
  {
   "cell_type": "code",
   "execution_count": 83,
   "id": "8c5b277f",
   "metadata": {
    "deletable": false,
    "editable": false,
    "nbgrader": {
     "cell_type": "code",
     "checksum": "856a794625eb8bdaddea1efec391f462",
     "grade": true,
     "grade_id": "cell-11336a71953ece90",
     "locked": true,
     "points": 1,
     "schema_version": 3,
     "solution": false,
     "task": false
    },
    "tags": []
   },
   "outputs": [
    {
     "name": "stdout",
     "output_type": "stream",
     "text": [
      "Test 1: Success!\n"
     ]
    }
   ],
   "source": [
    "# Test 1: Verify prob3b is a boolean value (True or False). (1 mark)\n",
    "assert isinstance(prob3b,bool)\n",
    "print(\"Test 1: Success!\")"
   ]
  },
  {
   "cell_type": "code",
   "execution_count": 84,
   "id": "57e00ca6",
   "metadata": {
    "deletable": false,
    "editable": false,
    "nbgrader": {
     "cell_type": "code",
     "checksum": "f2a08ee63adab236f3f071fb47c1e30e",
     "grade": true,
     "grade_id": "cell-24beb9a19c0b55d9",
     "locked": true,
     "points": 1,
     "schema_version": 3,
     "solution": false,
     "task": false
    },
    "tags": []
   },
   "outputs": [],
   "source": [
    "# Test 2: Verify prob3b is the correct value. This cell contains hidden tests. (1 mark)"
   ]
  }
 ],
 "metadata": {
  "kernelspec": {
   "display_name": "Python 3 (ipykernel)",
   "language": "python",
   "name": "python3"
  },
  "language_info": {
   "codemirror_mode": {
    "name": "ipython",
    "version": 3
   },
   "file_extension": ".py",
   "mimetype": "text/x-python",
   "name": "python",
   "nbconvert_exporter": "python",
   "pygments_lexer": "ipython3",
   "version": "3.10.13"
  }
 },
 "nbformat": 4,
 "nbformat_minor": 5
}
